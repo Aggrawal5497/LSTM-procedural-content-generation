{
 "cells": [
  {
   "cell_type": "code",
   "execution_count": 1,
   "metadata": {},
   "outputs": [],
   "source": [
    "import matplotlib.pyplot as plt\n",
    "import tensorflow as tf\n",
    "import numpy as np"
   ]
  },
  {
   "cell_type": "code",
   "execution_count": 2,
   "metadata": {},
   "outputs": [],
   "source": [
    "tf.reset_default_graph()\n",
    "sess = tf.InteractiveSession()"
   ]
  },
  {
   "cell_type": "markdown",
   "metadata": {},
   "source": [
    "## Constants"
   ]
  },
  {
   "cell_type": "code",
   "execution_count": 3,
   "metadata": {},
   "outputs": [],
   "source": [
    "vocab_size = 257\n",
    "embedding_size = 5\n",
    "hidden_units = 10\n",
    "batch_size = 5\n",
    "GO = 256\n",
    "END = 257\n",
    "image_dim = 28\n",
    "image_grid_flat = 784\n",
    "D_hidden_1 = 100\n",
    "D_out = 1\n",
    "generator_length = tf.constant(image_grid_flat, dtype=tf.int32, name=\"length\")"
   ]
  },
  {
   "cell_type": "markdown",
   "metadata": {},
   "source": [
    "## Generator"
   ]
  },
  {
   "cell_type": "code",
   "execution_count": 4,
   "metadata": {},
   "outputs": [],
   "source": [
    "with tf.name_scope(\"generator_variables\"):\n",
    "    embeddings = tf.get_variable(\"g_embeddings\", shape=[vocab_size, embedding_size], dtype=tf.float32, \n",
    "                                 initializer=tf.random_uniform_initializer)\n",
    "    go_time_slice = tf.ones([batch_size], dtype=tf.int32) * 256\n",
    "    end_time_slice = tf.ones([batch_size], dtype=tf.int32) * 257\n",
    "    go_embedding = tf.nn.embedding_lookup(embeddings, go_time_slice)\n",
    "    end_embedding = tf.nn.embedding_lookup(embeddings, end_time_slice)\n",
    "\n",
    "    W = tf.Variable(tf.random_uniform([hidden_units, vocab_size], -1.0, 1.0), name=\"W\")\n",
    "    b = tf.Variable(tf.random_uniform([vocab_size]), name=\"b\")\n",
    "\n",
    "    cells = tf.nn.rnn_cell.BasicLSTMCell(hidden_units)\n",
    "    init_state = cells.zero_state(batch_size, dtype=tf.float32)\n",
    "\n",
    "with tf.name_scope(\"generator_loop_function\"):\n",
    "    def loop_initial():\n",
    "        initial_elements_finished = (0 >= generator_length)\n",
    "        initial_input = go_embedding\n",
    "        initial_cell_state = init_state\n",
    "        initial_cell_output = None\n",
    "        initial_loop_state = None\n",
    "\n",
    "        return (initial_elements_finished,\n",
    "               initial_input,\n",
    "               initial_cell_state, initial_cell_output,\n",
    "               initial_loop_state)\n",
    "\n",
    "    def loop_transition(time, previous_output, previous_state, previous_loop_state):\n",
    "        def get_next_input():\n",
    "            output_logits = tf.matmul(previous_output, W) + b\n",
    "            prediction = tf.argmax(output_logits, axis = 1)\n",
    "            next_input = tf.nn.embedding_lookup(embeddings, prediction)\n",
    "            return next_input\n",
    "\n",
    "        elements_finished = (time >= generator_length)\n",
    "        finished = tf.reduce_all(elements_finished)\n",
    "        ninput = tf.cond(finished, lambda: end_embedding, get_next_input)\n",
    "        state = previous_state\n",
    "        output = previous_output\n",
    "        loop_state = None\n",
    "\n",
    "        return (finished, ninput, state, output, loop_state)\n",
    "\n",
    "    def loop_fn(time, poutput, pstate, ploop):\n",
    "        if pstate is None:\n",
    "            return loop_initial()\n",
    "        else:\n",
    "            return loop_transition(time, poutput, pstate, ploop)"
   ]
  },
  {
   "cell_type": "code",
   "execution_count": 5,
   "metadata": {},
   "outputs": [],
   "source": [
    "with tf.name_scope(\"Convolutions\"):\n",
    "    def conv2d(x, W, n = \"conv\"):\n",
    "        return tf.nn.conv2d(x, W, strides=[1, 1, 1, 1], padding=\"SAME\", name=n)\n",
    "\n",
    "    conv_weights = {\"weights\" : tf.Variable(tf.random_uniform([3, 3, 10, 1], -1.0, 1.0), name=\"cweights\"),\n",
    "                   \"biases\" : tf.Variable(tf.random_uniform([1], -1.0, 1.0), name=\"cbiases\")}"
   ]
  },
  {
   "cell_type": "code",
   "execution_count": 6,
   "metadata": {},
   "outputs": [],
   "source": [
    "with tf.name_scope(\"generator_main\"):\n",
    "    def generator():\n",
    "        outputs_ta, _, _ = tf.nn.raw_rnn(cells, loop_fn)\n",
    "\n",
    "        generator_outputs = outputs_ta.stack()\n",
    "        generator_outputs = tf.transpose(generator_outputs, (1, 0, 2))\n",
    "        generator_outputs = tf.reshape(generator_outputs, (batch_size, 28, 28, hidden_units))\n",
    "        final_image = tf.nn.relu(conv2d(generator_outputs, conv_weights['weights']) + conv_weights[\"biases\"])\n",
    "        final_image = tf.reshape(final_image, (-1, generator_length))\n",
    "        return final_image\n"
   ]
  },
  {
   "cell_type": "markdown",
   "metadata": {},
   "source": [
    "## Discriminator"
   ]
  },
  {
   "cell_type": "code",
   "execution_count": 7,
   "metadata": {},
   "outputs": [],
   "source": [
    "with tf.name_scope(\"discriminator_variables\"):\n",
    "    x_real = tf.placeholder(\"float\", [None, image_grid_flat])\n",
    "    \n",
    "    D_W1 = tf.Variable(tf.random_uniform([image_grid_flat, D_hidden_1], -1.0, 1.0))\n",
    "    D_b1 = tf.Variable(tf.random_uniform([D_hidden_1], -1.0, 1.0))\n",
    "    \n",
    "    D_W2 = tf.Variable(tf.random_uniform([D_hidden_1, D_out], -1.0, 1.0))\n",
    "    D_b2 = tf.Variable(tf.random_uniform([D_out], -1.0, 1.0))\n",
    "    \n",
    "    theta_D = [D_W1, D_W2, D_b1, D_b2]\n",
    "\n",
    "with tf.name_scope(\"discriminator_main\"):\n",
    "    def discriminator(x):\n",
    "        l1 = tf.nn.relu(tf.matmul(tf.cast(x, dtype=tf.float32), D_W1) + D_b1)\n",
    "        logits = tf.matmul(l1, D_W2) + D_b2\n",
    "        output = tf.nn.sigmoid(logits)\n",
    "        \n",
    "        return output, logits"
   ]
  },
  {
   "cell_type": "markdown",
   "metadata": {},
   "source": [
    "## Loss Definitions"
   ]
  },
  {
   "cell_type": "code",
   "execution_count": 8,
   "metadata": {},
   "outputs": [],
   "source": [
    "with tf.name_scope(\"running_GAN\"):\n",
    "    sampled = generator()\n",
    "    D_real, D_real_logits = discriminator(x_real)\n",
    "    D_fake, D_fake_logits = discriminator(sampled)\n",
    "\n",
    "with tf.name_scope(\"discriminator_loss\"):\n",
    "    D_loss_real = tf.reduce_mean(tf.nn.sigmoid_cross_entropy_with_logits(logits=D_real_logits, labels=tf.ones_like(D_real_logits)), name=\"D_real_loss\")\n",
    "    D_loss_fake = tf.reduce_mean(tf.nn.sigmoid_cross_entropy_with_logits(logits=D_fake_logits, labels=tf.zeros_like(D_fake_logits)), name=\"D_fake_loss\")\n",
    "\n",
    "with tf.name_scope(\"generator_loss\"):\n",
    "    G_loss = tf.reduce_mean(tf.nn.sigmoid_cross_entropy_with_logits(logits=D_fake_logits, labels=tf.ones_like(D_fake_logits)), name=\"G_loss\")\n",
    "\n",
    "with tf.name_scope(\"Get_trainable_Variables\"):\n",
    "    gen_var = [var for var in tf.trainable_variables() if \"discriminator\" not in var.name]\n",
    "    dis_var = [var for var in tf.trainable_variables() if \"discriminator\" in var.name]"
   ]
  },
  {
   "cell_type": "code",
   "execution_count": 9,
   "metadata": {},
   "outputs": [],
   "source": [
    "with tf.name_scope(\"Train_op\"):\n",
    "    D_real_solver = tf.train.AdamOptimizer().minimize(D_loss_real, var_list = dis_var)\n",
    "    D_fake_solver = tf.train.AdamOptimizer().minimize(D_loss_fake, var_list = dis_var)\n",
    "    G_solver = tf.train.AdamOptimizer().minimize(G_loss, var_list = gen_var)"
   ]
  },
  {
   "cell_type": "code",
   "execution_count": 10,
   "metadata": {},
   "outputs": [],
   "source": [
    "sess.run(tf.global_variables_initializer())"
   ]
  },
  {
   "cell_type": "markdown",
   "metadata": {},
   "source": [
    "## Training"
   ]
  },
  {
   "cell_type": "code",
   "execution_count": 19,
   "metadata": {},
   "outputs": [
    {
     "name": "stdout",
     "output_type": "stream",
     "text": [
      "[array([[ 0.00585586],\n",
      "       [ 0.00585586],\n",
      "       [ 0.00585586],\n",
      "       [ 0.00585586],\n",
      "       [ 0.00585586]], dtype=float32)]\n",
      "[array([[ 0.00859304],\n",
      "       [ 0.00859304],\n",
      "       [ 0.00859304],\n",
      "       [ 0.00859304],\n",
      "       [ 0.00859304]], dtype=float32)]\n"
     ]
    }
   ],
   "source": [
    "print(sess.run([D_fake]))\n",
    "sess.run([G_solver])\n",
    "print(sess.run([D_fake]))"
   ]
  },
  {
   "cell_type": "code",
   "execution_count": 20,
   "metadata": {},
   "outputs": [
    {
     "data": {
      "text/plain": [
       "<matplotlib.image.AxesImage at 0x2250f9c7828>"
      ]
     },
     "execution_count": 20,
     "metadata": {},
     "output_type": "execute_result"
    },
    {
     "data": {
      "image/png": "[encoded data removed]",
      "text/plain": [
       "<matplotlib.figure.Figure at 0x2250f872978>"
      ]
     },
     "metadata": {},
     "output_type": "display_data"
    }
   ],
   "source": [
    "ans = sess.run(sampled)\n",
    "plt.imshow(ans[1].reshape((28, 28)))"
   ]
  },
  {
   "cell_type": "markdown",
   "metadata": {},
   "source": [
    "## Session Close"
   ]
  },
  {
   "cell_type": "code",
   "execution_count": 21,
   "metadata": {},
   "outputs": [],
   "source": [
    "sess.close()"
   ]
  },
  {
   "cell_type": "markdown",
   "metadata": {},
   "source": [
    "## Saving graph"
   ]
  },
  {
   "cell_type": "code",
   "execution_count": 14,
   "metadata": {},
   "outputs": [],
   "source": [
    "#g = tf.get_default_graph()\n",
    "#tf.summary.FileWriter(\"log\", g).close()"
   ]
  }
 ],
 "metadata": {
  "kernelspec": {
   "display_name": "Python 3",
   "language": "python",
   "name": "python3"
  },
  "language_info": {
   "codemirror_mode": {
    "name": "ipython",
    "version": 3
   },
   "file_extension": ".py",
   "mimetype": "text/x-python",
   "name": "python",
   "nbconvert_exporter": "python",
   "pygments_lexer": "ipython3",
   "version": "3.5.3"
  }
 },
 "nbformat": 4,
 "nbformat_minor": 2
}
