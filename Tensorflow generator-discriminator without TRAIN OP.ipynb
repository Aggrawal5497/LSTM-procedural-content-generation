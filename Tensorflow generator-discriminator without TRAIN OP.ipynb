{
 "cells": [
  {
   "cell_type": "code",
   "execution_count": 1,
   "metadata": {},
   "outputs": [],
   "source": [
    "import matplotlib.pyplot as plt\n",
    "import tensorflow as tf\n",
    "import numpy as np"
   ]
  },
  {
   "cell_type": "code",
   "execution_count": 2,
   "metadata": {},
   "outputs": [],
   "source": [
    "tf.reset_default_graph()\n",
    "sess = tf.InteractiveSession()"
   ]
  },
  {
   "cell_type": "markdown",
   "metadata": {},
   "source": [
    "## Constants"
   ]
  },
  {
   "cell_type": "code",
   "execution_count": 3,
   "metadata": {},
   "outputs": [],
   "source": [
    "vocab_size = 257\n",
    "embedding_size = 5\n",
    "hidden_units = 10\n",
    "batch_size = 5\n",
    "GO = 256\n",
    "END = 257\n",
    "image_dim = 28\n",
    "image_grid_flat = 784\n",
    "D_hidden_1 = 100\n",
    "D_out = 1\n",
    "generator_length = tf.constant(image_grid_flat, dtype=tf.int32)"
   ]
  },
  {
   "cell_type": "markdown",
   "metadata": {},
   "source": [
    "## Generator"
   ]
  },
  {
   "cell_type": "code",
   "execution_count": 4,
   "metadata": {},
   "outputs": [],
   "source": [
    "with tf.name_scope(\"generator\"):\n",
    "    embeddings = tf.Variable(tf.random_uniform([vocab_size, embedding_size], -1.0, 1.0), name=\"embeddings\")\n",
    "\n",
    "    go_time_slice = tf.ones([batch_size], dtype=tf.int32) * 256\n",
    "    end_time_slice = tf.ones([batch_size], dtype=tf.int32) * 257\n",
    "    go_embedding = tf.nn.embedding_lookup(embeddings, go_time_slice)\n",
    "    end_embedding = tf.nn.embedding_lookup(embeddings, end_time_slice)\n",
    "\n",
    "    W = tf.Variable(tf.random_uniform([hidden_units, vocab_size], -1.0, 1.0), name=\"W\")\n",
    "    b = tf.Variable(tf.random_uniform([vocab_size]), name=\"b\")\n",
    "\n",
    "    cells = tf.nn.rnn_cell.BasicLSTMCell(hidden_units)\n",
    "    init_state = cells.zero_state(batch_size, dtype=tf.float32)\n",
    "\n",
    "    def loop_initial():\n",
    "        initial_elements_finished = (0 >= generator_length)\n",
    "        initial_input = go_embedding\n",
    "        initial_cell_state = init_state\n",
    "        initial_cell_output = None\n",
    "        initial_loop_state = None\n",
    "\n",
    "        return (initial_elements_finished,\n",
    "               initial_input,\n",
    "               initial_cell_state, initial_cell_output,\n",
    "               initial_loop_state)\n",
    "\n",
    "    def loop_transition(time, previous_output, previous_state, previous_loop_state):\n",
    "        def get_next_input():\n",
    "            output_logits = tf.matmul(previous_output, W) + b\n",
    "            prediction = tf.argmax(output_logits, axis = 1)\n",
    "            next_input = tf.nn.embedding_lookup(embeddings, prediction)\n",
    "            return next_input\n",
    "\n",
    "        elements_finished = (time >= generator_length)\n",
    "        finished = tf.reduce_all(elements_finished)\n",
    "        ninput = tf.cond(finished, lambda: end_embedding, get_next_input)\n",
    "        state = previous_state\n",
    "        output = previous_output\n",
    "        loop_state = None\n",
    "\n",
    "        return (finished, ninput, state, output, loop_state)\n",
    "\n",
    "    def loop_fn(time, poutput, pstate, ploop):\n",
    "        if pstate is None:\n",
    "            return loop_initial()\n",
    "        else:\n",
    "            return loop_transition(time, poutput, pstate, ploop)\n",
    "\n",
    "    def generator():\n",
    "        outputs_ta, _, _ = tf.nn.raw_rnn(cells, loop_fn)\n",
    "\n",
    "        generator_outputs = outputs_ta.stack()\n",
    "\n",
    "        gen_max_time, gen_batch_size, gen_dim = tf.unstack(tf.shape(generator_outputs))\n",
    "        gen_outs_flats = tf.reshape(generator_outputs, (-1, gen_dim))\n",
    "        gen_logits_flat = tf.matmul(gen_outs_flats, W) + b\n",
    "        gen_logits = tf.reshape(gen_logits_flat, (gen_max_time, gen_batch_size, vocab_size))\n",
    "\n",
    "        return tf.argmax(gen_logits, axis=2)"
   ]
  },
  {
   "cell_type": "markdown",
   "metadata": {},
   "source": [
    "## Discriminator"
   ]
  },
  {
   "cell_type": "code",
   "execution_count": 5,
   "metadata": {},
   "outputs": [],
   "source": [
    "with tf.name_scope(\"discriminator\"):\n",
    "    x_in = tf.placeholder(\"float\", [None, image_grid_flat])\n",
    "    \n",
    "    D_W1 = tf.Variable(tf.random_uniform([image_grid_flat, D_hidden_1], -1.0, 1.0))\n",
    "    D_b1 = tf.Variable(tf.random_uniform([D_hidden_1], -1.0, 1.0))\n",
    "    \n",
    "    D_W2 = tf.Variable(tf.random_uniform([D_hidden_1, D_out], -1.0, 1.0))\n",
    "    D_b2 = tf.Variable(tf.random_uniform([D_out], -1.0, 1.0))\n",
    "    \n",
    "    theta_D = [D_W1, D_W2, D_b1, D_b2]\n",
    "    \n",
    "    def discriminator(x):\n",
    "        l1 = tf.nn.relu(tf.matmul(x, D_W1) + D_b1)\n",
    "        output = tf.nn.sigmoid(tf.matmul(l1, D_W2) + D_b2)\n",
    "        \n",
    "        return output"
   ]
  },
  {
   "cell_type": "markdown",
   "metadata": {},
   "source": [
    "## Running generator and then Full genrator-discriminator"
   ]
  },
  {
   "cell_type": "code",
   "execution_count": 6,
   "metadata": {},
   "outputs": [
    {
     "data": {
      "text/plain": [
       "array([[ 1.],\n",
       "       [ 1.],\n",
       "       [ 1.],\n",
       "       [ 1.],\n",
       "       [ 1.]], dtype=float32)"
      ]
     },
     "execution_count": 6,
     "metadata": {},
     "output_type": "execute_result"
    }
   ],
   "source": [
    "sample = generator()\n",
    "real_fake = discriminator(x_in)\n",
    "sess.run(tf.global_variables_initializer())\n",
    "ans = sess.run(sample)\n",
    "val = ans.T.reshape((batch_size, image_grid_flat))\n",
    "sess.run(real_fake, feed_dict={x_in : val})"
   ]
  },
  {
   "cell_type": "markdown",
   "metadata": {},
   "source": [
    "## Visualizing one output of generator"
   ]
  },
  {
   "cell_type": "code",
   "execution_count": 7,
   "metadata": {},
   "outputs": [
    {
     "data": {
      "text/plain": [
       "<matplotlib.image.AxesImage at 0x1c8af8e34e0>"
      ]
     },
     "execution_count": 7,
     "metadata": {},
     "output_type": "execute_result"
    },
    {
     "data": {
      "image/png": "[encoded data removed]",
      "text/plain": [
       "<matplotlib.figure.Figure at 0x1c8aaf0fc50>"
      ]
     },
     "metadata": {},
     "output_type": "display_data"
    }
   ],
   "source": [
    "plt.imshow(val.reshape((batch_size, image_dim, image_dim))[0])"
   ]
  },
  {
   "cell_type": "code",
   "execution_count": 8,
   "metadata": {},
   "outputs": [],
   "source": [
    "sess.close()"
   ]
  }
 ],
 "metadata": {
  "kernelspec": {
   "display_name": "Python 3",
   "language": "python",
   "name": "python3"
  },
  "language_info": {
   "codemirror_mode": {
    "name": "ipython",
    "version": 3
   },
   "file_extension": ".py",
   "mimetype": "text/x-python",
   "name": "python",
   "nbconvert_exporter": "python",
   "pygments_lexer": "ipython3",
   "version": "3.5.3"
  }
 },
 "nbformat": 4,
 "nbformat_minor": 2
}
