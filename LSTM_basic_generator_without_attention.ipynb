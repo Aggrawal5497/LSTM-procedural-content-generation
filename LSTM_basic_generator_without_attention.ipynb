{
 "cells": [
  {
   "cell_type": "code",
   "execution_count": 1,
   "metadata": {},
   "outputs": [
    {
     "name": "stderr",
     "output_type": "stream",
     "text": [
      "Using TensorFlow backend.\n"
     ]
    }
   ],
   "source": [
    "from keras.layers import LSTM, Dropout, Input, TimeDistributed, Dense, Reshape\n",
    "from keras.models import Model\n",
    "import numpy as np\n",
    "np.random.seed(3)"
   ]
  },
  {
   "cell_type": "code",
   "execution_count": 2,
   "metadata": {},
   "outputs": [],
   "source": [
    "def create_model(input_shape):\n",
    "    X_in = Input(input_shape)\n",
    "    X = LSTM(128, return_sequences=True) (X_in)\n",
    "    X = LSTM(128, return_sequences=True) (X)\n",
    "    X = TimeDistributed(Dense(5)) (X)\n",
    "    model = Model(inputs=X_in, outputs=X)\n",
    "    return model"
   ]
  },
  {
   "cell_type": "code",
   "execution_count": 3,
   "metadata": {},
   "outputs": [],
   "source": [
    "m = create_model((5, 5))"
   ]
  },
  {
   "cell_type": "code",
   "execution_count": 4,
   "metadata": {},
   "outputs": [
    {
     "name": "stdout",
     "output_type": "stream",
     "text": [
      "_________________________________________________________________\n",
      "Layer (type)                 Output Shape              Param #   \n",
      "=================================================================\n",
      "input_1 (InputLayer)         (None, 5, 5)              0         \n",
      "_________________________________________________________________\n",
      "lstm_1 (LSTM)                (None, 5, 128)            68608     \n",
      "_________________________________________________________________\n",
      "lstm_2 (LSTM)                (None, 5, 128)            131584    \n",
      "_________________________________________________________________\n",
      "time_distributed_1 (TimeDist (None, 5, 5)              645       \n",
      "=================================================================\n",
      "Total params: 200,837\n",
      "Trainable params: 200,837\n",
      "Non-trainable params: 0\n",
      "_________________________________________________________________\n"
     ]
    }
   ],
   "source": [
    "m.summary()"
   ]
  },
  {
   "cell_type": "code",
   "execution_count": 5,
   "metadata": {},
   "outputs": [],
   "source": [
    "val1 = np.random.rand(5, 5)\n",
    "val2 = np.random.rand(5, 5)\n",
    "val = np.zeros((2, 5, 5))"
   ]
  },
  {
   "cell_type": "code",
   "execution_count": 6,
   "metadata": {},
   "outputs": [],
   "source": [
    "val[0, :, :] = val1\n",
    "val[1, :, :] = val2"
   ]
  },
  {
   "cell_type": "code",
   "execution_count": 7,
   "metadata": {},
   "outputs": [],
   "source": [
    "m.compile(loss='categorical_crossentropy', metrics=['acc'], optimizer='adam')"
   ]
  },
  {
   "cell_type": "code",
   "execution_count": 8,
   "metadata": {},
   "outputs": [
    {
     "data": {
      "text/plain": [
       "array([[[ 0.14914791,  0.14117287,  0.34937791,  0.32845982,  0.52728382],\n",
       "        [ 0.40849897,  0.25614354,  0.13341208,  0.50861709,  0.91666465],\n",
       "        [ 0.10389834,  0.75254641,  0.97885817,  0.46756228,  0.7990756 ],\n",
       "        [ 0.66651891,  0.1392168 ,  0.86806344,  0.54681347,  0.77065669],\n",
       "        [ 0.07754349,  0.96304457,  0.96606609,  0.5281337 ,  0.05079202]],\n",
       "\n",
       "       [[ 0.94336484,  0.50933525,  0.27318868,  0.32977483,  0.98373574],\n",
       "        [ 0.49630511,  0.68982992,  0.28171485,  0.88237518,  0.51723414],\n",
       "        [ 0.54688712,  0.82297793,  0.69758758,  0.6363316 ,  0.40167678],\n",
       "        [ 0.27910793,  0.91649155,  0.6318468 ,  0.34083373,  0.92462905],\n",
       "        [ 0.19517139,  0.46402118,  0.25708379,  0.7446215 ,  0.36990176]]])"
      ]
     },
     "execution_count": 8,
     "metadata": {},
     "output_type": "execute_result"
    }
   ],
   "source": [
    "val"
   ]
  },
  {
   "cell_type": "code",
   "execution_count": 9,
   "metadata": {},
   "outputs": [],
   "source": [
    "ans= m.predict(val)"
   ]
  },
  {
   "cell_type": "code",
   "execution_count": 10,
   "metadata": {},
   "outputs": [
    {
     "data": {
      "text/plain": [
       "array([[[ 0.00508558,  0.00092169, -0.00224283,  0.00092993,  0.00152256],\n",
       "        [ 0.01321626,  0.00295497, -0.00598576,  0.00247928,  0.00430671],\n",
       "        [ 0.02306647,  0.00511507, -0.01197173,  0.00542541,  0.00554267],\n",
       "        [ 0.03551432,  0.00952738, -0.0136865 ,  0.01011909,  0.00466642],\n",
       "        [ 0.04039188,  0.01330614, -0.01319552,  0.01490805,  0.00148639]],\n",
       "\n",
       "       [[ 0.00901675,  0.00222899,  0.00141791,  0.00082655, -0.00056487],\n",
       "        [ 0.01595968,  0.00643464,  0.00252653,  0.00201441,  0.00091302],\n",
       "        [ 0.02196044,  0.01064432,  0.00494302,  0.00361168,  0.00015096],\n",
       "        [ 0.02636913,  0.01165391,  0.00244253,  0.00472549, -0.00160496],\n",
       "        [ 0.02655625,  0.01256967,  0.00091099,  0.00653185, -0.00176834]]], dtype=float32)"
      ]
     },
     "execution_count": 10,
     "metadata": {},
     "output_type": "execute_result"
    }
   ],
   "source": [
    "ans"
   ]
  }
 ],
 "metadata": {
  "kernelspec": {
   "display_name": "Python 3",
   "language": "python",
   "name": "python3"
  },
  "language_info": {
   "codemirror_mode": {
    "name": "ipython",
    "version": 3
   },
   "file_extension": ".py",
   "mimetype": "text/x-python",
   "name": "python",
   "nbconvert_exporter": "python",
   "pygments_lexer": "ipython3",
   "version": "3.5.3"
  }
 },
 "nbformat": 4,
 "nbformat_minor": 2
}
